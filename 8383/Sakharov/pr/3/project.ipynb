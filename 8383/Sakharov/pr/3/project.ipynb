{
 "cells": [
  {
   "cell_type": "markdown",
   "id": "taken-smart",
   "metadata": {},
   "source": [
    "### Задание \n",
    "#### Написать функцию, которая находит самое часто встречающееся число в каждой строке матрицы и возвращает массив этих значений"
   ]
  },
  {
   "cell_type": "markdown",
   "id": "earlier-october",
   "metadata": {},
   "source": [
    "### Импорт"
   ]
  },
  {
   "cell_type": "code",
   "execution_count": 1,
   "id": "constitutional-mountain",
   "metadata": {},
   "outputs": [],
   "source": [
    "from statistics import mode\n",
    "import numpy as np"
   ]
  },
  {
   "cell_type": "markdown",
   "id": "indian-tablet",
   "metadata": {},
   "source": [
    "### Считаем моду в каждой строке"
   ]
  },
  {
   "cell_type": "code",
   "execution_count": 2,
   "id": "medieval-paste",
   "metadata": {},
   "outputs": [],
   "source": [
    "def f(x):\n",
    "    modes = []\n",
    "    for line in x:\n",
    "        modes.append(mode(line))\n",
    "    return modes"
   ]
  },
  {
   "cell_type": "markdown",
   "id": "varying-perspective",
   "metadata": {},
   "source": [
    "### Пример выполнения"
   ]
  },
  {
   "cell_type": "code",
   "execution_count": 4,
   "id": "pacific-welding",
   "metadata": {},
   "outputs": [
    {
     "name": "stdout",
     "output_type": "stream",
     "text": [
      "[[1. 4. 8. 8.]\n",
      " [2. 2. 8. 8.]\n",
      " [1. 3. 5. 2.]\n",
      " [1. 1. 1. 1.]\n",
      " [1. 1. 1. 3.]]\n"
     ]
    }
   ],
   "source": [
    "#m = np.random.randint(-4,4,size=(10,10))\n",
    "m = np.loadtxt(\"v9.txt\")\n",
    "print(m)\n",
    "np.savetxt(\"v9_result.txt\",f(m))"
   ]
  },
  {
   "cell_type": "code",
   "execution_count": null,
   "id": "accepting-toronto",
   "metadata": {},
   "outputs": [],
   "source": []
  }
 ],
 "metadata": {
  "kernelspec": {
   "display_name": "Python 3",
   "language": "python",
   "name": "python3"
  },
  "language_info": {
   "codemirror_mode": {
    "name": "ipython",
    "version": 3
   },
   "file_extension": ".py",
   "mimetype": "text/x-python",
   "name": "python",
   "nbconvert_exporter": "python",
   "pygments_lexer": "ipython3",
   "version": "3.8.7"
  }
 },
 "nbformat": 4,
 "nbformat_minor": 5
}
