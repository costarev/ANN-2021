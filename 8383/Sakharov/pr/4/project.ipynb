{
 "cells": [
  {
   "cell_type": "markdown",
   "id": "romantic-movement",
   "metadata": {},
   "source": [
    "# Практическое задание 4"
   ]
  },
  {
   "cell_type": "code",
   "execution_count": 2,
   "id": "gentle-found",
   "metadata": {},
   "outputs": [],
   "source": [
    "import math\n",
    "import pandas\n",
    "import numpy as np\n",
    "import matplotlib.pyplot as plt\n",
    "import matplotlib.colors as mclr\n",
    "from tensorflow.keras.layers import Dense\n",
    "from tensorflow.keras.models import Sequential"
   ]
  },
  {
   "cell_type": "markdown",
   "id": "moral-humidity",
   "metadata": {},
   "source": [
    "Функция из варианта 3"
   ]
  },
  {
   "cell_type": "code",
   "execution_count": 3,
   "id": "atlantic-template",
   "metadata": {},
   "outputs": [],
   "source": [
    "def func(a, b, c):\n",
    "    return (a and b) or c"
   ]
  },
  {
   "cell_type": "markdown",
   "id": "secure-drawing",
   "metadata": {},
   "source": [
    "Вспомогательные функции"
   ]
  },
  {
   "cell_type": "code",
   "execution_count": 4,
   "id": "changed-credits",
   "metadata": {},
   "outputs": [],
   "source": [
    "def relu(x):\n",
    "    return np.maximum(x, 0)\n",
    "\n",
    "def sigmoid(x):\n",
    "    return 1 / (1 + np.exp(-x))"
   ]
  },
  {
   "cell_type": "markdown",
   "id": "reverse-equipment",
   "metadata": {},
   "source": [
    "Реализация с помощью функций numpy"
   ]
  },
  {
   "cell_type": "code",
   "execution_count": 23,
   "id": "familiar-passing",
   "metadata": {},
   "outputs": [],
   "source": [
    "def numpy_realization(layers, data):\n",
    "    functions = [relu, relu, sigmoid]\n",
    "    weights = [layer.get_weights() for layer in layers]\n",
    "    layers = data.copy()\n",
    "    for i, fun in enumerate(functions):\n",
    "        layers = fun(layers @ weights[i][0] + weights[i][1])\n",
    "    return layers"
   ]
  },
  {
   "cell_type": "markdown",
   "id": "filled-section",
   "metadata": {},
   "source": [
    "Собственная реализация"
   ]
  },
  {
   "cell_type": "code",
   "execution_count": 37,
   "id": "contrary-mobile",
   "metadata": {},
   "outputs": [],
   "source": [
    "def custom_realization(layers, data):\n",
    "    functions = [relu, relu, sigmoid]\n",
    "    weights = [layer.get_weights() for layer in layers]\n",
    "    layers = data.copy()\n",
    "    for i in range(len(weights)):\n",
    "        nextLayers = np.zeros((layers.shape[0], weights[i][0].shape[1]))\n",
    "        for j in range(layers.shape[0]):\n",
    "            for k in range(weights[i][0].shape[1]):\n",
    "                s = 0\n",
    "                for m in range(layers.shape[1]):\n",
    "                    s += layers[j][m] * weights[i][0][m][k]\n",
    "                nextLayers[j][k] = functions[i](s + weights[i][1][k])\n",
    "        layers = nextLayers\n",
    "    return layers"
   ]
  },
  {
   "cell_type": "markdown",
   "id": "attached-shareware",
   "metadata": {},
   "source": [
    "Входные данные"
   ]
  },
  {
   "cell_type": "code",
   "execution_count": 25,
   "id": "emerging-married",
   "metadata": {},
   "outputs": [],
   "source": [
    "train_data = pandas.read_csv(\"data.csv\", header=None).values.astype(int)\n",
    "train_labels = np.array([int(func(x[0], x[1], x[2])) for x in train_data])"
   ]
  },
  {
   "cell_type": "markdown",
   "id": "difficult-desire",
   "metadata": {},
   "source": [
    "Модель сети"
   ]
  },
  {
   "cell_type": "code",
   "execution_count": 26,
   "id": "weird-native",
   "metadata": {},
   "outputs": [],
   "source": [
    "model = Sequential()\n",
    "model.add(Dense(16, activation='relu', input_shape=(3,)))\n",
    "model.add(Dense(32, activation='relu'))\n",
    "model.add(Dense(1, activation='sigmoid'))"
   ]
  },
  {
   "cell_type": "markdown",
   "id": "perceived-reviewer",
   "metadata": {},
   "source": [
    "Процесс обучения и проверки"
   ]
  },
  {
   "cell_type": "code",
   "execution_count": 38,
   "id": "embedded-director",
   "metadata": {},
   "outputs": [
    {
     "name": "stdout",
     "output_type": "stream",
     "text": [
      "Необученная сеть:\n",
      "[[0.5       ]\n",
      " [0.5324743 ]\n",
      " [0.5139914 ]\n",
      " [0.5455347 ]\n",
      " [0.5465437 ]\n",
      " [0.53604746]\n",
      " [0.5153353 ]\n",
      " [0.51841754]]\n",
      "NumPy:\n",
      "[[0.5       ]\n",
      " [0.53247428]\n",
      " [0.5139914 ]\n",
      " [0.54553465]\n",
      " [0.54654369]\n",
      " [0.53604747]\n",
      " [0.5153353 ]\n",
      " [0.51841756]]\n",
      "Naive:\n",
      "[[0.5       ]\n",
      " [0.53247428]\n",
      " [0.5139914 ]\n",
      " [0.54553465]\n",
      " [0.54654369]\n",
      " [0.53604747]\n",
      " [0.5153353 ]\n",
      " [0.51841756]]\n",
      "Обученная сеть:\n",
      "[[0.00233829]\n",
      " [0.9995432 ]\n",
      " [0.00150636]\n",
      " [0.9999943 ]\n",
      " [0.00214076]\n",
      " [0.9998101 ]\n",
      " [0.99806213]\n",
      " [1.        ]]\n",
      "NumPy:\n",
      "[[0.0023383 ]\n",
      " [0.99954317]\n",
      " [0.00150635]\n",
      " [0.99999423]\n",
      " [0.00214078]\n",
      " [0.99981015]\n",
      " [0.99806207]\n",
      " [0.99999999]]\n",
      "Custom:\n",
      "[[0.0023383 ]\n",
      " [0.99954317]\n",
      " [0.00150635]\n",
      " [0.99999423]\n",
      " [0.00214078]\n",
      " [0.99981015]\n",
      " [0.99806207]\n",
      " [0.99999999]]\n"
     ]
    }
   ],
   "source": [
    "print(\"Необученная сеть:\")\n",
    "print(model.predict(train_data))\n",
    "print(\"NumPy:\")\n",
    "print(numpy_realization(model.layers, train_data))\n",
    "print(\"Naive:\")\n",
    "print(custom_realization(model.layers, train_data))\n",
    "\n",
    "model.compile(optimizer='adam', loss='binary_crossentropy', metrics=['accuracy'])\n",
    "history = model.fit(train_data, train_labels, epochs=1000, verbose=False)\n",
    "\n",
    "print(\"Обученная сеть:\")\n",
    "print(model.predict(train_data))\n",
    "print(\"NumPy:\")\n",
    "print(numpy_realization(model.layers, train_data))\n",
    "print(\"Custom:\")\n",
    "print(custom_realization(model.layers, train_data))"
   ]
  },
  {
   "cell_type": "code",
   "execution_count": null,
   "id": "changed-planning",
   "metadata": {},
   "outputs": [],
   "source": []
  }
 ],
 "metadata": {
  "kernelspec": {
   "display_name": "Python 3",
   "language": "python",
   "name": "python3"
  },
  "language_info": {
   "codemirror_mode": {
    "name": "ipython",
    "version": 3
   },
   "file_extension": ".py",
   "mimetype": "text/x-python",
   "name": "python",
   "nbconvert_exporter": "python",
   "pygments_lexer": "ipython3",
   "version": "3.8.7"
  }
 },
 "nbformat": 4,
 "nbformat_minor": 5
}
