{
 "cells": [
  {
   "cell_type": "code",
   "execution_count": 4,
   "id": "expensive-sculpture",
   "metadata": {},
   "outputs": [],
   "source": [
    "import pandas\n",
    "import matplotlib.pyplot as plt\n",
    "import numpy as np\n",
    "from tensorflow.keras.layers import Dense\n",
    "from tensorflow.keras.models import Sequential\n",
    "from tensorflow.keras.utils import to_categorical\n",
    "from tensorflow.keras.datasets import boston_housing\n",
    "from sklearn.preprocessing import LabelEncoder"
   ]
  },
  {
   "cell_type": "code",
   "execution_count": 35,
   "id": "sealed-turkey",
   "metadata": {},
   "outputs": [],
   "source": [
    "def plot_history(history, filename=\"\"):\n",
    "    loss = history['loss']\n",
    "    val_loss = history['val_loss']\n",
    "    acc = history['accuracy']\n",
    "    val_acc = history['val_accuracy']\n",
    "    epochs = range(1, len(loss) + 1)\n",
    "    fig, (ax1,ax2) = plt.subplots(1, 2, figsize=(18,10))\n",
    "    fig.suptitle('Loss and accuracy')\n",
    "\n",
    "    ax1.plot(epochs, loss, color=\"green\", label='Training loss')\n",
    "    ax1.plot(epochs, val_loss, color = \"blue\", label='Validation loss')\n",
    "    ax1.legend()\n",
    "\n",
    "    ax2.plot(epochs, acc, color=\"green\", label='Training acc')\n",
    "    ax2.plot(epochs, val_acc, color = \"blue\", label='Validation acc')\n",
    "    ax2.legend()\n",
    "\n",
    "    plt.show()\n",
    "\n",
    "    if (filename != \"\"):\n",
    "        plt.savefig(filename)\n",
    "\n",
    "def print_history(history):\n",
    "    loss = history['loss']\n",
    "    val_loss = history['val_loss']\n",
    "    acc = history['accuracy']\n",
    "    val_acc = history['val_accuracy']\n",
    "\n",
    "    print(\"T loss: {}; V loss: {}; T accuracy: {}; V accuracy: {}\"\n",
    "          .format(loss[-1], val_loss[-1], acc[-1], val_acc[-1]))\n",
    "    plot_history(history)\n",
    "\n",
    "def print_history_mae(history, filename=\"\"):\n",
    "    mae = history['mae']\n",
    "    val_mae = history['val_mae']\n",
    "    epochs = range(1, len(mae) + 1)\n",
    "    print(\"T mae: {}; V mae: {};\".format(mae[-1], val_mae[-1]))\n",
    "    plt.plot(epochs, mae, color='green', label='Training mae')\n",
    "    plt.plot(epochs, val_mae, color='blue', label='Validation mae')\n",
    "    plt.title('Mean absolute error')\n",
    "    plt.legend()\n",
    "    plt.show()\n",
    "\n",
    "    if (filename != \"\"):\n",
    "        plt.savefig(filename)\n",
    "\n",
    "def print_average(mae_arr, val_mae_arr):\n",
    "    avg_mae = np.average(mae_arr, axis=0)\n",
    "    avg_val_mae = np.average(val_mae_arr, axis=0)\n",
    "    epochs = range(1, len(avg_mae) + 1)\n",
    "    plt.plot(epochs, avg_mae, color='green', label='Training mae')\n",
    "    plt.plot(epochs, avg_val_mae, color='blue', label='Validation mae')\n",
    "    plt.title('Average mae')\n",
    "    plt.legend()\n",
    "    plt.show()"
   ]
  },
  {
   "cell_type": "code",
   "execution_count": 25,
   "id": "naked-notice",
   "metadata": {},
   "outputs": [],
   "source": [
    "def build_model():\n",
    "    model = Sequential()\n",
    "    model.add(Dense(64, activation='relu', input_shape=(train_data.shape[1],)))\n",
    "    model.add(Dense(64, activation='relu'))\n",
    "    model.add(Dense(1))\n",
    "    model.compile(optimizer='rmsprop', loss='mse', metrics=['mae'])\n",
    "    return model"
   ]
  },
  {
   "cell_type": "code",
   "execution_count": 26,
   "id": "killing-relationship",
   "metadata": {},
   "outputs": [],
   "source": [
    "(train_data, train_targets), (test_data, test_targets) = boston_housing.load_data()\n",
    "# print(train_data.shape)\n",
    "# print(test_data.shape)\n",
    "# print(test_targets)\n",
    "\n",
    "# Normalization\n",
    "mean = train_data.mean(axis=0)\n",
    "std = train_data.std(axis=0)\n",
    "train_data -= mean\n",
    "train_data /= std\n",
    "test_data -= mean\n",
    "test_data /= std"
   ]
  },
  {
   "cell_type": "code",
   "execution_count": 34,
   "id": "ranking-technique",
   "metadata": {},
   "outputs": [
    {
     "name": "stdout",
     "output_type": "stream",
     "text": [
      "processing fold # 0\n",
      "processing fold # 1\n",
      "processing fold # 2\n",
      "processing fold # 3\n",
      "2.4669633507728577\n"
     ]
    },
    {
     "ename": "NameError",
     "evalue": "name 'print_average' is not defined",
     "output_type": "error",
     "traceback": [
      "\u001b[1;31m---------------------------------------------------------------------------\u001b[0m",
      "\u001b[1;31mNameError\u001b[0m                                 Traceback (most recent call last)",
      "\u001b[1;32m<ipython-input-34-c5323832bfd2>\u001b[0m in \u001b[0;36m<module>\u001b[1;34m\u001b[0m\n\u001b[0;32m     23\u001b[0m \u001b[1;33m\u001b[0m\u001b[0m\n\u001b[0;32m     24\u001b[0m \u001b[0mprint\u001b[0m\u001b[1;33m(\u001b[0m\u001b[0mnp\u001b[0m\u001b[1;33m.\u001b[0m\u001b[0mmean\u001b[0m\u001b[1;33m(\u001b[0m\u001b[0mall_scores\u001b[0m\u001b[1;33m)\u001b[0m\u001b[1;33m)\u001b[0m\u001b[1;33m\u001b[0m\u001b[1;33m\u001b[0m\u001b[0m\n\u001b[1;32m---> 25\u001b[1;33m \u001b[0mprint_average\u001b[0m\u001b[1;33m(\u001b[0m\u001b[0mmae_arr\u001b[0m\u001b[1;33m,\u001b[0m \u001b[0mval_mae_arr\u001b[0m\u001b[1;33m)\u001b[0m\u001b[1;33m\u001b[0m\u001b[1;33m\u001b[0m\u001b[0m\n\u001b[0m",
      "\u001b[1;31mNameError\u001b[0m: name 'print_average' is not defined"
     ]
    }
   ],
   "source": [
    "k = 4\n",
    "num_val_samples = len(train_data) // k\n",
    "num_epochs = 100\n",
    "all_scores = []\n",
    "mae_arr = []\n",
    "val_mae_arr = []\n",
    "\n",
    "for i in range(k):\n",
    "    print('processing fold #', i)\n",
    "    val_data = train_data[i * num_val_samples: (i + 1) * num_val_samples]\n",
    "    val_targets = train_targets[i * num_val_samples: (i + 1) * num_val_samples]\n",
    "    p_train_data = np.concatenate([train_data[:i * num_val_samples], train_data[(i + 1) * num_val_samples:]], axis=0)\n",
    "    p_train_targets = np.concatenate([train_targets[:i * num_val_samples], train_targets[(i + 1) * num_val_samples:]], axis=0)\n",
    "    \n",
    "    model = build_model()\n",
    "    history = model.fit(p_train_data, p_train_targets, epochs=num_epochs, batch_size=1, verbose=False, validation_data=(val_data, val_targets))\n",
    "#     print_history_mae(history.history)\n",
    "    \n",
    "    val_mse, val_mae = model.evaluate(val_data, val_targets, verbose=0)\n",
    "    all_scores.append(val_mae)\n",
    "    mae_arr.append(history.history['mae'])\n",
    "    val_mae_arr.append(history.history['val_mae'])\n",
    "\n",
    "print(np.mean(all_scores))\n",
    "print_average(mae_arr, val_mae_arr)"
   ]
  },
  {
   "cell_type": "code",
   "execution_count": 37,
   "id": "removable-centre",
   "metadata": {},
   "outputs": [
    {
     "name": "stdout",
     "output_type": "stream",
     "text": [
      "processing fold # 0\n",
      "processing fold # 1\n",
      "processing fold # 2\n",
      "processing fold # 3\n",
      "2.372316002845764\n"
     ]
    },
    {
     "data": {
      "image/png": "[encoded data removed]",
      "text/plain": [
       "<Figure size 432x288 with 1 Axes>"
      ]
     },
     "metadata": {
      "needs_background": "light"
     },
     "output_type": "display_data"
    }
   ],
   "source": [
    "k = 4\n",
    "num_val_samples = len(train_data) // k\n",
    "num_epochs = 40\n",
    "all_scores = []\n",
    "mae_arr = []\n",
    "val_mae_arr = []\n",
    "\n",
    "for i in range(k):\n",
    "    print('processing fold #', i)\n",
    "    val_data = train_data[i * num_val_samples: (i + 1) * num_val_samples]\n",
    "    val_targets = train_targets[i * num_val_samples: (i + 1) * num_val_samples]\n",
    "    p_train_data = np.concatenate([train_data[:i * num_val_samples], train_data[(i + 1) * num_val_samples:]], axis=0)\n",
    "    p_train_targets = np.concatenate([train_targets[:i * num_val_samples], train_targets[(i + 1) * num_val_samples:]], axis=0)\n",
    "    \n",
    "    model = build_model()\n",
    "    history = model.fit(p_train_data, p_train_targets, epochs=num_epochs, batch_size=1, verbose=False, validation_data=(val_data, val_targets))\n",
    "#     print_history_mae(history.history)\n",
    "    \n",
    "    val_mse, val_mae = model.evaluate(val_data, val_targets, verbose=0)\n",
    "    all_scores.append(val_mae)\n",
    "    mae_arr.append(history.history['mae'])\n",
    "    val_mae_arr.append(history.history['val_mae'])\n",
    "\n",
    "print(np.mean(all_scores))\n",
    "print_average(mae_arr, val_mae_arr)"
   ]
  },
  {
   "cell_type": "code",
   "execution_count": 38,
   "id": "human-zoning",
   "metadata": {},
   "outputs": [
    {
     "name": "stdout",
     "output_type": "stream",
     "text": [
      "processing fold # 0\n",
      "processing fold # 1\n",
      "processing fold # 2\n",
      "processing fold # 3\n",
      "processing fold # 4\n",
      "processing fold # 5\n",
      "2.3776084582010903\n"
     ]
    },
    {
     "data": {
      "image/png": "[encoded data removed]",
      "text/plain": [
       "<Figure size 432x288 with 1 Axes>"
      ]
     },
     "metadata": {
      "needs_background": "light"
     },
     "output_type": "display_data"
    }
   ],
   "source": [
    "k = 6\n",
    "num_val_samples = len(train_data) // k\n",
    "num_epochs = 100\n",
    "all_scores = []\n",
    "mae_arr = []\n",
    "val_mae_arr = []\n",
    "\n",
    "for i in range(k):\n",
    "    print('processing fold #', i)\n",
    "    val_data = train_data[i * num_val_samples: (i + 1) * num_val_samples]\n",
    "    val_targets = train_targets[i * num_val_samples: (i + 1) * num_val_samples]\n",
    "    p_train_data = np.concatenate([train_data[:i * num_val_samples], train_data[(i + 1) * num_val_samples:]], axis=0)\n",
    "    p_train_targets = np.concatenate([train_targets[:i * num_val_samples], train_targets[(i + 1) * num_val_samples:]], axis=0)\n",
    "    \n",
    "    model = build_model()\n",
    "    history = model.fit(p_train_data, p_train_targets, epochs=num_epochs, batch_size=1, verbose=False, validation_data=(val_data, val_targets))\n",
    "#     print_history_mae(history.history)\n",
    "    \n",
    "    val_mse, val_mae = model.evaluate(val_data, val_targets, verbose=0)\n",
    "    all_scores.append(val_mae)\n",
    "    mae_arr.append(history.history['mae'])\n",
    "    val_mae_arr.append(history.history['val_mae'])\n",
    "\n",
    "print(np.mean(all_scores))\n",
    "print_average(mae_arr, val_mae_arr)"
   ]
  },
  {
   "cell_type": "code",
   "execution_count": 39,
   "id": "distributed-charge",
   "metadata": {},
   "outputs": [
    {
     "name": "stdout",
     "output_type": "stream",
     "text": [
      "processing fold # 0\n",
      "processing fold # 1\n",
      "processing fold # 2\n",
      "processing fold # 3\n",
      "processing fold # 4\n",
      "processing fold # 5\n",
      "processing fold # 6\n",
      "processing fold # 7\n",
      "2.4007626324892044\n"
     ]
    },
    {
     "data": {
      "image/png": "[encoded data removed]",
      "text/plain": [
       "<Figure size 432x288 with 1 Axes>"
      ]
     },
     "metadata": {
      "needs_background": "light"
     },
     "output_type": "display_data"
    }
   ],
   "source": [
    "k = 8\n",
    "num_val_samples = len(train_data) // k\n",
    "num_epochs = 100\n",
    "all_scores = []\n",
    "mae_arr = []\n",
    "val_mae_arr = []\n",
    "\n",
    "for i in range(k):\n",
    "    print('processing fold #', i)\n",
    "    val_data = train_data[i * num_val_samples: (i + 1) * num_val_samples]\n",
    "    val_targets = train_targets[i * num_val_samples: (i + 1) * num_val_samples]\n",
    "    p_train_data = np.concatenate([train_data[:i * num_val_samples], train_data[(i + 1) * num_val_samples:]], axis=0)\n",
    "    p_train_targets = np.concatenate([train_targets[:i * num_val_samples], train_targets[(i + 1) * num_val_samples:]], axis=0)\n",
    "    \n",
    "    model = build_model()\n",
    "    history = model.fit(p_train_data, p_train_targets, epochs=num_epochs, batch_size=1, verbose=False, validation_data=(val_data, val_targets))\n",
    "#     print_history_mae(history.history)\n",
    "    \n",
    "    val_mse, val_mae = model.evaluate(val_data, val_targets, verbose=0)\n",
    "    all_scores.append(val_mae)\n",
    "    mae_arr.append(history.history['mae'])\n",
    "    val_mae_arr.append(history.history['val_mae'])\n",
    "\n",
    "print(np.mean(all_scores))\n",
    "print_average(mae_arr, val_mae_arr)"
   ]
  },
  {
   "cell_type": "code",
   "execution_count": 40,
   "id": "future-responsibility",
   "metadata": {},
   "outputs": [
    {
     "name": "stdout",
     "output_type": "stream",
     "text": [
      "processing fold # 0\n",
      "processing fold # 1\n",
      "processing fold # 2\n",
      "2.4133402903874717\n"
     ]
    },
    {
     "data": {
      "image/png": "[encoded data removed]",
      "text/plain": [
       "<Figure size 432x288 with 1 Axes>"
      ]
     },
     "metadata": {
      "needs_background": "light"
     },
     "output_type": "display_data"
    }
   ],
   "source": [
    "k = 3\n",
    "num_val_samples = len(train_data) // k\n",
    "num_epochs = 100\n",
    "all_scores = []\n",
    "mae_arr = []\n",
    "val_mae_arr = []\n",
    "\n",
    "for i in range(k):\n",
    "    print('processing fold #', i)\n",
    "    val_data = train_data[i * num_val_samples: (i + 1) * num_val_samples]\n",
    "    val_targets = train_targets[i * num_val_samples: (i + 1) * num_val_samples]\n",
    "    p_train_data = np.concatenate([train_data[:i * num_val_samples], train_data[(i + 1) * num_val_samples:]], axis=0)\n",
    "    p_train_targets = np.concatenate([train_targets[:i * num_val_samples], train_targets[(i + 1) * num_val_samples:]], axis=0)\n",
    "    \n",
    "    model = build_model()\n",
    "    history = model.fit(p_train_data, p_train_targets, epochs=num_epochs, batch_size=1, verbose=False, validation_data=(val_data, val_targets))\n",
    "#     print_history_mae(history.history)\n",
    "    \n",
    "    val_mse, val_mae = model.evaluate(val_data, val_targets, verbose=0)\n",
    "    all_scores.append(val_mae)\n",
    "    mae_arr.append(history.history['mae'])\n",
    "    val_mae_arr.append(history.history['val_mae'])\n",
    "\n",
    "print(np.mean(all_scores))\n",
    "print_average(mae_arr, val_mae_arr)"
   ]
  },
  {
   "cell_type": "code",
   "execution_count": null,
   "id": "norwegian-armenia",
   "metadata": {},
   "outputs": [],
   "source": []
  }
 ],
 "metadata": {
  "kernelspec": {
   "display_name": "Python 3",
   "language": "python",
   "name": "python3"
  },
  "language_info": {
   "codemirror_mode": {
    "name": "ipython",
    "version": 3
   },
   "file_extension": ".py",
   "mimetype": "text/x-python",
   "name": "python",
   "nbconvert_exporter": "python",
   "pygments_lexer": "ipython3",
   "version": "3.8.7"
  }
 },
 "nbformat": 4,
 "nbformat_minor": 5
}
