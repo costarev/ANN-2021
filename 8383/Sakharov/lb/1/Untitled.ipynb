{
 "cells": [
  {
   "cell_type": "code",
   "execution_count": null,
   "id": "normal-subcommittee",
   "metadata": {},
   "outputs": [],
   "source": [
    "import pandas\n",
    "import matplotlib.pyplot as plt\n",
    "from tensorflow import keras\n",
    "from tensorflow.keras.layers import Dense\n",
    "from tensorflow.keras.models import Sequential\n",
    "from tensorflow.keras.utils import to_categorical\n",
    "from sklearn.preprocessing import LabelEncoder\n",
    "from sklearn.model_selection import train_test_split"
   ]
  },
  {
   "cell_type": "code",
   "execution_count": null,
   "id": "vocational-anger",
   "metadata": {},
   "outputs": [],
   "source": [
    "dataframe = pandas.read_csv(\"iris.csv\", header=None)\n",
    "dataset = dataframe.values\n",
    "X = dataset[:,0:4].astype(float)\n",
    "Y = dataset[:,4]"
   ]
  },
  {
   "cell_type": "code",
   "execution_count": null,
   "id": "fundamental-april",
   "metadata": {},
   "outputs": [],
   "source": [
    "encoder = LabelEncoder()\n",
    "encoder.fit(Y)\n",
    "encoded_Y = encoder.transform(Y)\n",
    "dummy_y = to_categorical(encoded_Y)"
   ]
  },
  {
   "cell_type": "code",
   "execution_count": null,
   "id": "informational-association",
   "metadata": {},
   "outputs": [],
   "source": [
    "def model_0_layers():\n",
    "    model = Sequential()\n",
    "    model.add(Dense(4, activation=\"relu\"))\n",
    "    model.add(Dense(3, activation=\"softmax\"))\n",
    "    model.compile(optimizer='adam', loss=keras.losses.CategoricalCrossentropy(), metrics=['accuracy'])\n",
    "    print(\"Model: without hidden layers\")\n",
    "    return model\n",
    "\n",
    "def model_1_layers(neurons_count_1):\n",
    "    model = Sequential()\n",
    "    model.add(Dense(4, activation=\"relu\"))\n",
    "    model.add(Dense(neurons_count_1, activation=\"relu\"))\n",
    "    model.add(Dense(3, activation=\"softmax\"))\n",
    "    model.compile(optimizer='adam', loss=keras.losses.CategoricalCrossentropy(), metrics=['accuracy'])\n",
    "    print(\"Model: layer1:{};\".format(neurons_count_1))\n",
    "    return model\n",
    "\n",
    "def model_2_layers(neurons_count_1, neurons_count_2):\n",
    "    model = Sequential()\n",
    "    model.add(Dense(4, activation=\"relu\"))\n",
    "    model.add(Dense(neurons_count_1, activation=\"relu\"))\n",
    "    model.add(Dense(neurons_count_2, activation=\"relu\"))\n",
    "    model.add(Dense(3, activation=\"softmax\"))\n",
    "    model.compile(optimizer='adam', loss=keras.losses.CategoricalCrossentropy(), metrics=['accuracy'])\n",
    "    print(\"Model: layer1:{}; layer2:{};\".format(neurons_count_1, neurons_count_2))\n",
    "    return model\n",
    "    \n",
    "def model_3_layers(neurons_count_1, neurons_count_2, neurons_count_3):\n",
    "    model = Sequential()\n",
    "    model.add(Dense(4, activation=\"relu\"))\n",
    "    model.add(Dense(neurons_count_1, activation=\"relu\"))\n",
    "    model.add(Dense(neurons_count_2, activation=\"relu\"))\n",
    "    model.add(Dense(neurons_count_3, activation=\"relu\"))\n",
    "    model.add(Dense(3, activation=\"softmax\"))\n",
    "    model.compile(optimizer='adam', loss=keras.losses.CategoricalCrossentropy(), metrics=['accuracy'])\n",
    "    print(\"Model: layer1:{}; layer2:{}; layer3:{};\".format(neurons_count_1, neurons_count_2, neurons_count_3))\n",
    "    return model\n",
    "\n",
    "def fit_model(model, ep=70, bs=10, vs=0.1):\n",
    "    print(\"Epochs: {}; Batch size: {}; Validation split: {}\".format(ep, bs, vs))\n",
    "    return model.fit(X, dummy_y, epochs=ep, batch_size=bs, validation_split=vs, verbose=False)\n",
    "\n",
    "def plot_history(history, filename=\"\"):\n",
    "    loss = history['loss']\n",
    "    val_loss = history['val_loss']\n",
    "    acc = history['accuracy']\n",
    "    val_acc = history['val_accuracy']\n",
    "    epochs = range(1, len(loss) + 1)\n",
    "    fig, (ax1,ax2) = plt.subplots(1, 2, figsize=(18,10))\n",
    "    fig.suptitle('Loss and accuracy')\n",
    "\n",
    "    ax1.plot(epochs, loss, color=\"green\", label='Training loss')\n",
    "    ax1.plot(epochs, val_loss, color = \"blue\", label='Validation loss')\n",
    "    ax1.legend()\n",
    "\n",
    "    ax2.plot(epochs, acc, color=\"green\", label='Training acc')\n",
    "    ax2.plot(epochs, val_acc, color = \"blue\", label='Validation acc')\n",
    "    ax2.legend()\n",
    "\n",
    "    plt.show()\n",
    "\n",
    "    if (filename != \"\"):\n",
    "        plt.savefig(filename)\n",
    "\n",
    "def print_history(history):\n",
    "    loss = history['loss']\n",
    "    val_loss = history['val_loss']\n",
    "    acc = history['accuracy']\n",
    "    val_acc = history['val_accuracy']\n",
    "\n",
    "    print(\"T loss: {}; V loss: {}; T accuracy: {}; V accuracy: {}\"\n",
    "          .format(loss[-1], val_loss[-1], acc[-1], val_acc[-1]))\n",
    "    plot_history(history)\n",
    "    print('----------------------------------------------------------------------------')\n",
    "    #plt.show()\n",
    "    "
   ]
  },
  {
   "cell_type": "code",
   "execution_count": null,
   "id": "entitled-relations",
   "metadata": {},
   "outputs": [],
   "source": [
    "# for ep in [30, 70, 150]:\n",
    "#     for bs in [1, 3, 10]:\n",
    "#         for vs in [0.001, 0.1, 0.5]:\n",
    "#             print(\"!!! Epochs: {}; Batch size: {} Validation split: {}\".format(ep, bs, vs))\n",
    "#             print_history(fit_model(model_0_layers(), ep, bs, vs).history)\n",
    "#             print_history(fit_model(model_1_layers(3), ep, bs, vs).history)\n",
    "#             print_history(fit_model(model_1_layers(5), ep, bs, vs).history)\n",
    "#             print_history(fit_model(model_1_layers(10), ep, bs, vs).history)\n",
    "#             print_history(fit_model(model_1_layers(15), ep, bs, vs).history)\n",
    "#             print_history(fit_model(model_2_layers(3, 5), ep, bs, vs).history)\n",
    "#             print_history(fit_model(model_2_layers(5, 3), ep, bs, vs).history)\n",
    "#             print_history(fit_model(model_2_layers(10, 5), ep, bs, vs).history)\n",
    "#             print_history(fit_model(model_2_layers(5, 10), ep, bs, vs).history)\n",
    "#             print_history(fit_model(model_2_layers(10, 10), ep, bs, vs).history)\n",
    "#             print_history(fit_model(model_3_layers(3, 3, 3), ep, bs, vs).history)\n",
    "#             print_history(fit_model(model_3_layers(10, 10, 10), ep, bs, vs).history)\n",
    "#             print_history(fit_model(model_3_layers(3, 5, 10), ep, bs, vs).history)\n",
    "#             print_history(fit_model(model_3_layers(10, 5, 3), ep, bs, vs).history)\n",
    "\n",
    "\n",
    "# for n1 in range(5, 50, 10):\n",
    "#     for n2 in range(5, 50, 10):\n",
    "#         m = model_2_layers(n1, n2)\n",
    "#         for epochs in range(10, 200, 50):\n",
    "#             for batch_size in range(5, 20, 5):\n",
    "#                 #for validation_split in range(0.01, 500, 50):\n",
    "#                 print(\"Model: layer1:{} ; layer2:{}\".format(n1, n2))\n",
    "#                 m.fit(X, dummy_y, epochs=10, batch_size=5, validation_split=0.1, verbose=False)\n",
    "#                 result = fit_model(m, epochs, batch_size, 0.1)\n",
    "#                 print_history(result.history)\n"
   ]
  },
  {
   "cell_type": "code",
   "execution_count": null,
   "id": "overall-probe",
   "metadata": {},
   "outputs": [],
   "source": [
    "model = Sequential()\n",
    "model.add(Dense(4, activation=\"relu\"))\n",
    "model.add(Dense(3, activation=\"softmax\"))\n",
    "model.compile(optimizer='adam', loss=keras.losses.CategoricalCrossentropy(), metrics=['accuracy'])\n",
    "print_history(fit_model(model, 75, 10, 0.1).history)\n"
   ]
  },
  {
   "cell_type": "code",
   "execution_count": null,
   "id": "combined-belle",
   "metadata": {},
   "outputs": [],
   "source": [
    "model = Sequential()\n",
    "model.add(Dense(4, activation=\"relu\"))\n",
    "model.add(Dense(5, activation=\"relu\"))\n",
    "model.add(Dense(3, activation=\"softmax\"))\n",
    "model.compile(optimizer='adam', loss=keras.losses.CategoricalCrossentropy(), metrics=['accuracy'])\n",
    "print_history(fit_model(model, 75, 10, 0.1).history)"
   ]
  },
  {
   "cell_type": "code",
   "execution_count": null,
   "id": "inside-builder",
   "metadata": {},
   "outputs": [],
   "source": [
    "model = Sequential()\n",
    "model.add(Dense(4, activation=\"relu\"))\n",
    "model.add(Dense(10, activation=\"relu\"))\n",
    "model.add(Dense(10, activation=\"relu\"))\n",
    "model.add(Dense(3, activation=\"softmax\"))\n",
    "model.compile(optimizer='adam', loss=keras.losses.CategoricalCrossentropy(), metrics=['accuracy'])\n",
    "print_history(fit_model(model, 75, 10, 0.1).history)"
   ]
  },
  {
   "cell_type": "code",
   "execution_count": null,
   "id": "filled-breath",
   "metadata": {},
   "outputs": [],
   "source": [
    "model = Sequential()\n",
    "model.add(Dense(4, activation=\"relu\"))\n",
    "model.add(Dense(5, activation=\"relu\"))\n",
    "model.add(Dense(3, activation=\"softmax\"))\n",
    "model.compile(optimizer='adam', loss=keras.losses.CategoricalCrossentropy(), metrics=['accuracy'])\n",
    "print_history(fit_model(model, 80, 5, 0.1).history)"
   ]
  },
  {
   "cell_type": "code",
   "execution_count": null,
   "id": "latest-glucose",
   "metadata": {},
   "outputs": [],
   "source": [
    "model = Sequential()\n",
    "model.add(Dense(4, activation=\"relu\"))\n",
    "model.add(Dense(8, activation=\"relu\"))\n",
    "model.add(Dense(3, activation=\"softmax\"))\n",
    "model.compile(optimizer='adam', loss=keras.losses.CategoricalCrossentropy(), metrics=['accuracy'])\n",
    "print_history(fit_model(model, 80, 15, 0.1).history)"
   ]
  },
  {
   "cell_type": "code",
   "execution_count": null,
   "id": "injured-integration",
   "metadata": {},
   "outputs": [],
   "source": []
  }
 ],
 "metadata": {
  "kernelspec": {
   "display_name": "Python 3",
   "language": "python",
   "name": "python3"
  },
  "language_info": {
   "codemirror_mode": {
    "name": "ipython",
    "version": 3
   },
   "file_extension": ".py",
   "mimetype": "text/x-python",
   "name": "python",
   "nbconvert_exporter": "python",
   "pygments_lexer": "ipython3",
   "version": "3.8.7"
  },
  "toc-autonumbering": false,
  "toc-showcode": false,
  "toc-showmarkdowntxt": false
 },
 "nbformat": 4,
 "nbformat_minor": 5
}
